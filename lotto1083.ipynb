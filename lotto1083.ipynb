{
  "nbformat": 4,
  "nbformat_minor": 0,
  "metadata": {
    "colab": {
      "provenance": [],
      "authorship_tag": "ABX9TyOlIYVtx8MUGXXBuTMfLjfJ",
      "include_colab_link": true
    },
    "kernelspec": {
      "name": "python3",
      "display_name": "Python 3"
    },
    "language_info": {
      "name": "python"
    }
  },
  "cells": [
    {
      "cell_type": "markdown",
      "metadata": {
        "id": "view-in-github",
        "colab_type": "text"
      },
      "source": [
        "<a href=\"https://colab.research.google.com/github/crissstar/projectmanager/blob/main/lotto1083.ipynb\" target=\"_parent\"><img src=\"https://colab.research.google.com/assets/colab-badge.svg\" alt=\"Open In Colab\"/></a>"
      ]
    },
    {
      "cell_type": "code",
      "execution_count": 42,
      "metadata": {
        "colab": {
          "base_uri": "https://localhost:8080/"
        },
        "id": "FwerUYsuF-fD",
        "outputId": "61c6c534-9bbb-4345-d6c3-81b4e69fd60d"
      },
      "outputs": [
        {
          "output_type": "stream",
          "name": "stdout",
          "text": [
            "자주 등장 번호 6개: [34, 18, 27, 45, 12, 14]\n",
            "1084회 로또 번호 제시 1: [2, 12, 18, 27, 30, 33, 34, 45]\n",
            "1084회 로또 번호 제시 2: [12, 18, 25, 27, 34, 36, 40, 45]\n",
            "1084회 로또 번호 제시 3: [3, 12, 17, 18, 23, 27, 34, 45]\n",
            "1084회 로또 번호 제시 4: [12, 13, 18, 26, 27, 28, 34, 45]\n",
            "1084회 로또 번호 제시 5: [12, 18, 27, 29, 34, 35, 43, 45]\n"
          ]
        },
        {
          "output_type": "stream",
          "name": "stderr",
          "text": [
            "<ipython-input-42-27e74b5773f4>:19: DeprecationWarning: Sampling from a set deprecated\n",
            "since Python 3.9 and will be removed in a subsequent version.\n",
            "  prediction = sorted(common_numbers[:5] + random.sample(set(range(1, 46)) - set(common_numbers), 3))\n"
          ]
        }
      ],
      "source": [
        "import pandas as pd\n",
        "from collections import Counter\n",
        "import random\n",
        "\n",
        "# lotto1083.CSV 파일에서 데이터를 읽음\n",
        "df = pd.read_csv('./sample_data/lotto1083.csv', encoding='cp949')\n",
        "df.reset_index(inplace=True)\n",
        "# 모든 당첨 번호를 하나의 리스트로 합침\n",
        "all_numbers = []\n",
        "for i in range(1, 7):  # 1번째 ~ 6번째 번호까지\n",
        "    all_numbers.extend(df[str(i) + '번째'].tolist())\n",
        "\n",
        "# 가장 자주 등장하는 6개의 숫자를 찾음\n",
        "common_numbers = [item[0] for item in Counter(all_numbers).most_common(6)]\n",
        "print(f\"자주 등장 번호 6개: {common_numbers}\")\n",
        "# 1084회 로또 번호 제시 (5가지 제시)\n",
        "for i in range(5):\n",
        "    # 공통 숫자 중 5개를 선택하고 나머지 1개의 숫자는 랜덤으로 선택\n",
        "    prediction = sorted(common_numbers[:5] + random.sample(set(range(1, 46)) - set(common_numbers), 3))\n",
        "    print(f\"1084회 로또 번호 제시 {i+1}: {prediction}\")"
      ]
    },
    {
      "cell_type": "code",
      "source": [
        "print(df.columns)"
      ],
      "metadata": {
        "colab": {
          "base_uri": "https://localhost:8080/"
        },
        "id": "H1_QebcDJKbe",
        "outputId": "32f8a42d-66c9-4d96-9ace-58b27a44c534"
      },
      "execution_count": 19,
      "outputs": [
        {
          "output_type": "stream",
          "name": "stdout",
          "text": [
            "Index(['회차', '1번', '2번', '3번', '4번', '5번', '6번', '7번'], dtype='object')\n"
          ]
        }
      ]
    },
    {
      "cell_type": "code",
      "source": [
        "print(df.index)"
      ],
      "metadata": {
        "colab": {
          "base_uri": "https://localhost:8080/"
        },
        "id": "6YT1yvfiMaXG",
        "outputId": "4d7a5c2a-10e8-40ce-95ea-915b7022ad71"
      },
      "execution_count": 22,
      "outputs": [
        {
          "output_type": "stream",
          "name": "stdout",
          "text": [
            "RangeIndex(start=0, stop=1083, step=1)\n"
          ]
        }
      ]
    },
    {
      "cell_type": "code",
      "source": [
        "df.columns = df.columns.str.strip()"
      ],
      "metadata": {
        "id": "rde9tbNwJdQh"
      },
      "execution_count": 24,
      "outputs": []
    },
    {
      "cell_type": "code",
      "source": [
        "df.loc[:, '회차']"
      ],
      "metadata": {
        "colab": {
          "base_uri": "https://localhost:8080/"
        },
        "id": "BN6SVfbMNMmL",
        "outputId": "8f692a8d-1b7f-4c90-d88b-40f4f61b13c3"
      },
      "execution_count": 25,
      "outputs": [
        {
          "output_type": "execute_result",
          "data": {
            "text/plain": [
              "0       1083\n",
              "1       1082\n",
              "2       1081\n",
              "3       1080\n",
              "4       1079\n",
              "        ... \n",
              "1078       5\n",
              "1079       4\n",
              "1080       3\n",
              "1081       2\n",
              "1082       1\n",
              "Name: 회차, Length: 1083, dtype: int64"
            ]
          },
          "metadata": {},
          "execution_count": 25
        }
      ]
    },
    {
      "cell_type": "code",
      "source": [
        "print(df.head())"
      ],
      "metadata": {
        "colab": {
          "base_uri": "https://localhost:8080/"
        },
        "id": "0xO5yMkhJfJk",
        "outputId": "50aa64cf-28d7-44e3-c8ca-b78f1e62d643"
      },
      "execution_count": 26,
      "outputs": [
        {
          "output_type": "stream",
          "name": "stdout",
          "text": [
            "     회차  1번  2번  3번  4번  5번  6번  7번\n",
            "0  1083   3   7  14  15  22  38  17\n",
            "1  1082  21  26  27  32  34  42  31\n",
            "2  1081   1   9  16  23  24  38  17\n",
            "3  1080  13  16  23  31  36  44  38\n",
            "4  1079   4   8  18  24  37  45   6\n"
          ]
        }
      ]
    },
    {
      "cell_type": "code",
      "source": [
        "print(df.tail())"
      ],
      "metadata": {
        "colab": {
          "base_uri": "https://localhost:8080/"
        },
        "id": "vg5Vtjv4J1VE",
        "outputId": "2dc11136-c668-4310-a9f8-776579d1717a"
      },
      "execution_count": 27,
      "outputs": [
        {
          "output_type": "stream",
          "name": "stdout",
          "text": [
            "      회차  1번  2번  3번  4번  5번  6번  7번\n",
            "1078   5  16  24  29  40  41  42   3\n",
            "1079   4  14  27  30  31  40  42   2\n",
            "1080   3  11  16  19  21  27  31  30\n",
            "1081   2   9  13  21  25  32  42   2\n",
            "1082   1  10  23  29  33  37  40  16\n"
          ]
        }
      ]
    }
  ]
}